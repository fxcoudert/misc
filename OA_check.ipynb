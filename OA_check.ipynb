{
 "cells": [
  {
   "cell_type": "markdown",
   "metadata": {},
   "source": [
    "# Checking the OA status of an author's papers"
   ]
  },
  {
   "cell_type": "code",
   "execution_count": 1,
   "metadata": {},
   "outputs": [],
   "source": [
    "import json\n",
    "import orcid\n",
    "import requests\n",
    "import sys\n",
    "import time\n",
    "from IPython.display import HTML, display"
   ]
  },
  {
   "cell_type": "markdown",
   "metadata": {},
   "source": [
    "ORCID of the author you want to check"
   ]
  },
  {
   "cell_type": "code",
   "execution_count": 2,
   "metadata": {},
   "outputs": [],
   "source": [
    "ORCID = '0000-0001-5318-3910'"
   ]
  },
  {
   "cell_type": "markdown",
   "metadata": {},
   "source": [
    "Sadly, to make requests to ORCID and Base APIs, you will need to register with them, I cannot share my identifiers"
   ]
  },
  {
   "cell_type": "code",
   "execution_count": 3,
   "metadata": {},
   "outputs": [],
   "source": [
    "orcid_api_id = 'APP-XXXXXXXXXXXXXXXX'\n",
    "orcid_api_secret = 'XXXXXXXX-XXXX-XXXX-XXXX-XXXXXXXXXXXX'\n",
    "base_api_ua = 'XXXXXXXXXX@XXXXXXXXXXXXXXXXXXXXXX'\n",
    "orcid_api_email = 'XXXXXXXXX@XXXXXXXXX'"
   ]
  },
  {
   "cell_type": "markdown",
   "metadata": {},
   "source": [
    "Now we retrieve the papers for this author:"
   ]
  },
  {
   "cell_type": "code",
   "execution_count": 4,
   "metadata": {},
   "outputs": [
    {
     "name": "stdout",
     "output_type": "stream",
     "text": [
      "ORCID: 0000-0001-5318-3910\n",
      "Name: François-Xavier Coudert\n",
      "Number of papers in ORCID: 109\n",
      "\n",
      "No DOI available for paper: Free energy landscapes for the thermodynamic understanding of adsorption-induced deformations and structural transitions in porous materials.\n",
      "No DOI available for paper: Distribution of sodium cations in faujasite-type zeolite: A canonical parallel tempering simulation study\n",
      "No DOI available for paper: Theoretical study of neutral dipolar atom in water: Structure, spectroscopy and formation of an excitonic state\n",
      "\n",
      "Number of papers with DOI: 106\n"
     ]
    }
   ],
   "source": [
    "def findDOI(paper):\n",
    "    for i in paper['external-ids']['external-id']:\n",
    "        if i['external-id-type'] == 'doi':\n",
    "            return i['external-id-value']\n",
    "    return None\n",
    "\n",
    "api = orcid.PublicAPI(orcid_api_id, orcid_api_secret)\n",
    "token = api.get_search_token_from_orcid()\n",
    "record = api.read_record_public(ORCID, 'record', token)\n",
    "print(f'ORCID: {record[\"orcid-identifier\"][\"path\"]}')\n",
    "name = record['person']['name']\n",
    "print(f'Name: {name[\"given-names\"][\"value\"]} {name[\"family-name\"][\"value\"]}')\n",
    "works = api.read_record_public(ORCID, 'works', token)['group']\n",
    "print(f'Number of papers in ORCID: {len(works)}\\n')\n",
    "      \n",
    "dois = []\n",
    "for paper in works:\n",
    "    doi = findDOI(paper)\n",
    "    if doi:\n",
    "        dois.append((doi, paper['work-summary'][0]['title']['title']['value']))\n",
    "    else:\n",
    "        title = paper['work-summary'][0]['title']['title']['value']\n",
    "        print(f'No DOI available for paper: {title}')\n",
    "\n",
    "print(f'\\nNumber of papers with DOI: {len(dois)}')"
   ]
  },
  {
   "cell_type": "code",
   "execution_count": 5,
   "metadata": {},
   "outputs": [],
   "source": [
    "def base_search(doi):\n",
    "    r = requests.get('https://api.base-search.net/cgi-bin/BaseHttpSearchInterface.fcgi',\n",
    "                     params={'func': 'PerformSearch', 'query': f'dcdoi:{doi}', 'boost': 'oa', 'format': 'json'},\n",
    "                     headers={'user-agent': 'fx.coudert@chimieparistech.psl.eu'})\n",
    "    docs = r.json()['response']['docs']\n",
    "    for doc in docs:\n",
    "        if doc['dcoa'] == 1:\n",
    "            return True\n",
    "    return False\n",
    "\n",
    "def unpaywall(doi):\n",
    "    r = requests.get(f'https://api.unpaywall.org/v2/{doi}',\n",
    "                     params={\"email\": \"fxcoudert@gmail.com\"})\n",
    "    r = r.json()\n",
    "    if 'error' in r:\n",
    "        return False\n",
    "    if r['is_oa']:\n",
    "        return True\n",
    "    return False"
   ]
  },
  {
   "cell_type": "code",
   "execution_count": 6,
   "metadata": {},
   "outputs": [
    {
     "name": "stdout",
     "output_type": "stream",
     "text": [
      "Be patient, this step takes time (2 to 3 seconds per paper)\n"
     ]
    }
   ],
   "source": [
    "res = []\n",
    "print('Be patient, this step takes time (2 to 3 seconds per paper)')\n",
    "for doi, title in dois:\n",
    "    res.append((doi, title, base_search(doi), unpaywall(doi)))\n",
    "    time.sleep(1)"
   ]
  },
  {
   "cell_type": "code",
   "execution_count": 8,
   "metadata": {},
   "outputs": [
    {
     "data": {
      "text/html": [
       "<table><tr><td>Paper title</td><td>OA in BASE</td><td>OA in Unpaywall</td></tr><tr><td><a href=\"https://doi.org/10.3390/nano9030330\" target=\"_blank\">Rotational Dynamics of Linkers in Metal–Organic Frameworks</a></td><td style=\"background-color: #60FF60\">Yes</td><td style=\"background-color: #60FF60\">Yes</td></td><tr><td><a href=\"https://doi.org/10.1021/acs.jctc.8b01041\" target=\"_blank\">Ab Initio Derived Force Fields for Zeolitic Imidazolate Frameworks: MOF-FF for ZIFs</a></td><td style=\"background-color: #FF6060\">No</td><td style=\"background-color: #60FF60\">Yes</td></td><tr><td><a href=\"https://doi.org/10.1038/s41557-019-0236-7\" target=\"_blank\">Charting a course for chemistry</a></td><td style=\"background-color: #FF6060\">No</td><td style=\"background-color: #FF6060\">No</td></td><tr><td><a href=\"https://doi.org/10.1016/j.ccr.2019.02.023\" target=\"_blank\">Nanoscale metamaterials: Meta-MOFs and framework materials with anomalous behavior</a></td><td style=\"background-color: #FF6060\">No</td><td style=\"background-color: #FF6060\">No</td></td><tr><td><a href=\"https://doi.org/10.1038/s41563-019-0317-4\" target=\"_blank\">Pressure promoted low-temperature melting of metal–organic frameworks</a></td><td style=\"background-color: #FF6060\">No</td><td style=\"background-color: #60FF60\">Yes</td></td><tr><td><a href=\"https://doi.org/10.1021/acs.jpcc.8b04549\" target=\"_blank\">Adsorption Contraction Mechanics: Understanding Breathing Energetics in Isoreticular Metal-Organic Frameworks</a></td><td style=\"background-color: #FF6060\">No</td><td style=\"background-color: #FF6060\">No</td></td><tr><td><a href=\"https://doi.org/10.1038/s41467-018-04224-6\" target=\"_blank\">Air separation with graphene mediated by nanowindow-rim concerted motion</a></td><td style=\"background-color: #60FF60\">Yes</td><td style=\"background-color: #60FF60\">Yes</td></td><tr><td><a href=\"https://doi.org/10.1039/C8CE00337H\" target=\"_blank\">Conformational chiral polymorphism in cis-bis-triphenylphosphine complexes of transition metals</a></td><td style=\"background-color: #FF6060\">No</td><td style=\"background-color: #60FF60\">Yes</td></td><tr><td><a href=\"https://doi.org/10.1021/acs.inorgchem.8b02845\" target=\"_blank\">Emissive Azobenzenes Delivered on a Silver Coordination Polymer</a></td><td style=\"background-color: #FF6060\">No</td><td style=\"background-color: #FF6060\">No</td></td><tr><td><a href=\"https://doi.org/10.1021/acs.jpcc.8b08706\" target=\"_blank\">Impacts of the Imidazolate Linker Substitution (CH<inf>3</inf>, Cl, or Br) on the Structural and Adsorptive Properties of ZIF-8</a></td><td style=\"background-color: #FF6060\">No</td><td style=\"background-color: #FF6060\">No</td></td><tr><td><a href=\"https://doi.org/10.1021/acs.jpcc.8b00385\" target=\"_blank\">Melting of Zeolitic Imidazolate Frameworks with Different Topologies: Insight from First-Principles Molecular Dynamics</a></td><td style=\"background-color: #FF6060\">No</td><td style=\"background-color: #FF6060\">No</td></td><tr><td><a href=\"https://doi.org/10.1103/PhysRevLett.120.265501\" target=\"_blank\">Negative Hydration Expansion in ZrW2 O8: Microscopic Mechanism, Spaghetti Dynamics, and Negative Thermal Expansion</a></td><td style=\"background-color: #60FF60\">Yes</td><td style=\"background-color: #60FF60\">Yes</td></td><tr><td><a href=\"https://doi.org/10.1007/s10450-018-9942-5\" target=\"_blank\">On the use of the IAST method for gas separation studies in porous materials with gate-opening behavior</a></td><td style=\"background-color: #60FF60\">Yes</td><td style=\"background-color: #60FF60\">Yes</td></td><tr><td><a href=\"https://doi.org/10.1021/acs.cgd.8b00153\" target=\"_blank\">Polycatenated 2D Hydrogen-Bonded Binary Supramolecular Organic Frameworks (SOFs) with Enhanced Gas Adsorption and Selectivity</a></td><td style=\"background-color: #60FF60\">Yes</td><td style=\"background-color: #60FF60\">Yes</td></td><tr><td><a href=\"https://doi.org/10.1021/acs.jpcb.7b11753\" target=\"_blank\">Structure and Dynamics of Solvated Polymers near a Silica Surface: On the Different Roles Played by Solvent</a></td><td style=\"background-color: #60FF60\">Yes</td><td style=\"background-color: #FF6060\">No</td></td><tr><td><a href=\"https://doi.org/10.1021/acs.langmuir.8b01115\" target=\"_blank\">Structure and Dynamics of Water Confined in Imogolite Nanotubes</a></td><td style=\"background-color: #FF6060\">No</td><td style=\"background-color: #FF6060\">No</td></td><tr><td><a href=\"https://doi.org/10.1021/acs.chemmater.6b02994\" target=\"_blank\">Computational chemistry methods for nanoporous materials</a></td><td style=\"background-color: #FF6060\">No</td><td style=\"background-color: #60FF60\">Yes</td></td><tr><td><a href=\"https://doi.org/10.1039/c7cs00478h\" target=\"_blank\">Forced intrusion of water and aqueous solutions in microporous materials: From fundamental thermodynamics to energy storage devices</a></td><td style=\"background-color: #FF6060\">No</td><td style=\"background-color: #60FF60\">Yes</td></td><tr><td><a href=\"https://doi.org/10.1021/acs.langmuir.6b04472\" target=\"_blank\">Kinetic Accessibility of Porous Material Adsorption Sites Studied through the Lattice Boltzmann Method</a></td><td style=\"background-color: #60FF60\">Yes</td><td style=\"background-color: #60FF60\">Yes</td></td><tr><td><a href=\"https://doi.org/10.1038/NMAT4998\" target=\"_blank\">Liquid metal–organic frameworks</a></td><td style=\"background-color: #FF6060\">No</td><td style=\"background-color: #60FF60\">Yes</td></td><tr><td><a href=\"https://doi.org/10.1021/acs.jpclett.7b00397\" target=\"_blank\">Macroscopic Simulation of Deformation in Soft Microporous Composites</a></td><td style=\"background-color: #FF6060\">No</td><td style=\"background-color: #FF6060\">No</td></td><tr><td><a href=\"https://doi.org/10.1021/acs.chemmater.6b03837\" target=\"_blank\">Molecular Insight into CO<inf>2</inf> \"trapdoor\" Adsorption in Zeolite Na-RHO</a></td><td style=\"background-color: #FF6060\">No</td><td style=\"background-color: #FF6060\">No</td></td><tr><td><a href=\"https://doi.org/10.1002/cphc.201700463\" target=\"_blank\">Molecular Mechanism of Swing Effect in Zeolitic Imidazolate Framework ZIF-8: Continuous Deformation upon Adsorption</a></td><td style=\"background-color: #FF6060\">No</td><td style=\"background-color: #FF6060\">No</td></td><tr><td><a href=\"https://doi.org/10.1021/acs.chemmater.7b02532\" target=\"_blank\">Predicting the Mechanical Properties of Zeolite Frameworks by Machine Learning</a></td><td style=\"background-color: #FF6060\">No</td><td style=\"background-color: #60FF60\">Yes</td></td><tr><td><a href=\"https://doi.org/10.1039/c7cc03306k\" target=\"_blank\">Recent advances in the computational chemistry of soft porous crystals</a></td><td style=\"background-color: #60FF60\">Yes</td><td style=\"background-color: #60FF60\">Yes</td></td><tr><td><a href=\"https://doi.org/10.1021/acs.chemmater.7b00799\" target=\"_blank\">Reproducible Research in Computational Chemistry of Materials</a></td><td style=\"background-color: #FF6060\">No</td><td style=\"background-color: #FF6060\">No</td></td><tr><td><a href=\"https://doi.org/10.1039/c6sm02414a\" target=\"_blank\">Transport and adsorption under liquid flow: the role of pore geometry</a></td><td style=\"background-color: #FF6060\">No</td><td style=\"background-color: #60FF60\">Yes</td></td><tr><td><a href=\"https://doi.org/10.1002/anie.201509352\" target=\"_blank\">A computational and experimental approach linking disorder, high-pressure behavior, and mechanical properties in UiO frameworks</a></td><td style=\"background-color: #60FF60\">Yes</td><td style=\"background-color: #60FF60\">Yes</td></td><tr><td><a href=\"https://doi.org/10.1038/nature17430\" target=\"_blank\">A pressure-amplifying framework material with negative gas adsorption transitions</a></td><td style=\"background-color: #FF6060\">No</td><td style=\"background-color: #FF6060\">No</td></td><tr><td><a href=\"https://doi.org/10.1039/c5dt03978a\" target=\"_blank\">Adsorption deformation of microporous composites</a></td><td style=\"background-color: #FF6060\">No</td><td style=\"background-color: #FF6060\">No</td></td><tr><td><a href=\"https://doi.org/10.1038/nchem.2450\" target=\"_blank\">Carbon dioxide transport in molten calcium carbonate occurs through an oxo-Grotthuss mechanism via a pyrocarbonate anion</a></td><td style=\"background-color: #60FF60\">Yes</td><td style=\"background-color: #FF6060\">No</td></td><tr><td><a href=\"https://doi.org/10.1016/j.ccr.2015.08.001\" target=\"_blank\">Computational characterization and prediction of metal-organic framework properties</a></td><td style=\"background-color: #60FF60\">Yes</td><td style=\"background-color: #60FF60\">Yes</td></td><tr><td><a href=\"https://doi.org/10.1038/nchem.2430\" target=\"_blank\">Controlled partial interpenetration in metal-organic frameworks</a></td><td style=\"background-color: #FF6060\">No</td><td style=\"background-color: #FF6060\">No</td></td><tr><td><a href=\"https://doi.org/10.1039/c5dt04392a\" target=\"_blank\">Defects and disorder in metal organic frameworks</a></td><td style=\"background-color: #FF6060\">No</td><td style=\"background-color: #60FF60\">Yes</td></td><tr><td><a href=\"https://doi.org/10.1039/c5dt04330a\" target=\"_blank\">Defects in metal-organic frameworks: A compromise between adsorption and stability?</a></td><td style=\"background-color: #FF6060\">No</td><td style=\"background-color: #FF6060\">No</td></td><tr><td><a href=\"https://doi.org/10.1088/0953-8984/28/27/275201\" target=\"_blank\">ELATE: An open-source online application for analysis and visualization of elastic tensors</a></td><td style=\"background-color: #60FF60\">Yes</td><td style=\"background-color: #60FF60\">Yes</td></td><tr><td><a href=\"https://doi.org/10.1038/nchem.2462\" target=\"_blank\">Encoding complexity within supramolecular analogues of frustrated magnets</a></td><td style=\"background-color: #60FF60\">Yes</td><td style=\"background-color: #60FF60\">Yes</td></td><tr><td><a href=\"https://doi.org/10.1039/c6dt90026g\" target=\"_blank\">Flexibility and disorder in metal-organic frameworks</a></td><td style=\"background-color: #FF6060\">No</td><td style=\"background-color: #FF6060\">No</td></td><tr><td><a href=\"https://doi.org/10.1021/acs.jpcc.6b08594\" target=\"_blank\">Heterometallic metal-organic frameworks of MOF-5 and UiO-66 families: Insight from computational chemistry</a></td><td style=\"background-color: #60FF60\">Yes</td><td style=\"background-color: #FF6060\">No</td></td><tr><td><a href=\"https://doi.org/10.1063/1.4943392\" target=\"_blank\">Insight into the Li<inf>2</inf>CO<inf>3</inf>-K<inf>2</inf>CO<inf>3</inf>eutectic mixture from classical molecular dynamics: Thermodynamics, structure, and dynamics</a></td><td style=\"background-color: #60FF60\">Yes</td><td style=\"background-color: #60FF60\">Yes</td></td><tr><td><a href=\"https://doi.org/10.1038/nchem.2691\" target=\"_blank\">Interplay between defects, disorder and flexibility in metal-organic frameworks</a></td><td style=\"background-color: #60FF60\">Yes</td><td style=\"background-color: #FF6060\">No</td></td><tr><td><a href=\"https://doi.org/10.1016/j.micromeso.2015.10.003\" target=\"_blank\">Mechanism of water adsorption in the large pore form of the gallium-based MIL-53 metal-organic framework</a></td><td style=\"background-color: #FF6060\">No</td><td style=\"background-color: #FF6060\">No</td></td><tr><td><a href=\"https://doi.org/10.1021/jacs.6b02781\" target=\"_blank\">Microscopic Mechanism of Chiral Induction in a Metal-Organic Framework</a></td><td style=\"background-color: #FF6060\">No</td><td style=\"background-color: #FF6060\">No</td></td><tr><td><a href=\"https://doi.org/10.1039/c6cp04056j\" target=\"_blank\">Modelling photophysical properties of metal-organic frameworks: A density functional theory based approach</a></td><td style=\"background-color: #FF6060\">No</td><td style=\"background-color: #FF6060\">No</td></td><tr><td><a href=\"https://doi.org/10.1021/acs.chemmater.5b04306\" target=\"_blank\">Multicomponent Metal-Organic Frameworks as Defect-Tolerant Materials</a></td><td style=\"background-color: #FF6060\">No</td><td style=\"background-color: #60FF60\">Yes</td></td><tr><td><a href=\"https://doi.org/10.1021/jacs.5b12312\" target=\"_blank\">Non-Interpenetrated Metal-Organic Frameworks Based on Copper(II) Paddlewheel and Oligoparaxylene-Isophthalate Linkers: Synthesis, Structure, and Gas Adsorption</a></td><td style=\"background-color: #60FF60\">Yes</td><td style=\"background-color: #60FF60\">Yes</td></td><tr><td><a href=\"https://doi.org/10.1016/j.chempr.2016.11.004\" target=\"_blank\">Origins of Negative Gas Adsorption</a></td><td style=\"background-color: #60FF60\">Yes</td><td style=\"background-color: #FF6060\">No</td></td><tr><td><a href=\"https://doi.org/10.1039/c5cp01168j\" target=\"_blank\">A systematic typology for negative Poisson's ratio materials and the prediction of complete auxeticity in pure silica zeolite JST</a></td><td style=\"background-color: #FF6060\">No</td><td style=\"background-color: #60FF60\">Yes</td></td><tr><td><a href=\"https://doi.org/10.1039/c5cp01307k\" target=\"_blank\">Defect-dependent colossal negative thermal expansion in UiO-66(Hf) metal-organic framework</a></td><td style=\"background-color: #FF6060\">No</td><td style=\"background-color: #60FF60\">Yes</td></td><tr><td><a href=\"https://doi.org/10.1039/c4ce00436a\" target=\"_blank\">Experimental evidence of negative linear compressibility in the MIL-53 metal-organic framework family</a></td><td style=\"background-color: #FF6060\">No</td><td style=\"background-color: #60FF60\">Yes</td></td><tr><td><a href=\"https://doi.org/10.1021/acs.jpclett.5b01926\" target=\"_blank\">Hydrothermal Breakdown of Flexible Metal-Organic Frameworks: A Study by First-Principles Molecular Dynamics</a></td><td style=\"background-color: #60FF60\">Yes</td><td style=\"background-color: #FF6060\">No</td></td><tr><td><a href=\"https://doi.org/10.1021/jacs.5b02777\" target=\"_blank\">Insulator-to-Proton-Conductor Transition in a Dense Metal-Organic Framework</a></td><td style=\"background-color: #60FF60\">Yes</td><td style=\"background-color: #FF6060\">No</td></td><tr><td><a href=\"https://doi.org/10.1107/S2052520615020934\" target=\"_blank\">Metal-organic frameworks: The pressure is on</a></td><td style=\"background-color: #FF6060\">No</td><td style=\"background-color: #60FF60\">Yes</td></td><tr><td><a href=\"https://doi.org/10.1080/08927022.2015.1068028\" target=\"_blank\">Molecular simulation of framework materials</a></td><td style=\"background-color: #FF6060\">No</td><td style=\"background-color: #60FF60\">Yes</td></td><tr><td><a href=\"https://doi.org/10.1021/acs.chemmater.5b01366\" target=\"_blank\">Novel Porous Polymorphs of Zinc Cyanide with Rich Thermal and Mechanical Behavior</a></td><td style=\"background-color: #60FF60\">Yes</td><td style=\"background-color: #60FF60\">Yes</td></td><tr><td><a href=\"https://doi.org/10.1021/acs.chemmater.5b00046\" target=\"_blank\">Responsive metal-organic frameworks and framework materials: Under pressure, taking the heat, in the spotlight, with friends</a></td><td style=\"background-color: #FF6060\">No</td><td style=\"background-color: #60FF60\">Yes</td></td><tr><td><a href=\"https://doi.org/10.1021/acs.jpclett.5b01965\" target=\"_blank\">Softening upon Adsorption in Microporous Materials: A Counterintuitive Mechanical Response</a></td><td style=\"background-color: #60FF60\">Yes</td><td style=\"background-color: #FF6060\">No</td></td><tr><td><a href=\"https://doi.org/10.1038/nchem.2376\" target=\"_blank\">Strontium's scarlet sparkles</a></td><td style=\"background-color: #FF6060\">No</td><td style=\"background-color: #60FF60\">Yes</td></td><tr><td><a href=\"https://doi.org/10.1039/c5sm01348h\" target=\"_blank\">Unexpected coupling between flow and adsorption in porous media</a></td><td style=\"background-color: #60FF60\">Yes</td><td style=\"background-color: #60FF60\">Yes</td></td><tr><td><a href=\"https://doi.org/10.1080/00268976.2014.889325\" target=\"_blank\">A thermodynamic description of the adsorption-induced structural transitions in flexible MIL-53 metal-organic framework</a></td><td style=\"background-color: #FF6060\">No</td><td style=\"background-color: #FF6060\">No</td></td><tr><td><a href=\"https://doi.org/10.1080/08927022.2013.844344\" target=\"_blank\">Adsorption in complex porous networks with geometrical and chemical heterogeneity</a></td><td style=\"background-color: #60FF60\">Yes</td><td style=\"background-color: #FF6060\">No</td></td><tr><td><a href=\"https://doi.org/10.1063/1.4891578\" target=\"_blank\">Challenges in first-principles NPT molecular dynamics of soft porous crystals: A case study on MIL-53(Ga)</a></td><td style=\"background-color: #60FF60\">Yes</td><td style=\"background-color: #60FF60\">Yes</td></td><tr><td><a href=\"https://doi.org/10.1039/c3cp54042a\" target=\"_blank\">Comment on \"volume shrinkage of a metal-organic framework host induced by the dispersive attraction of guest gas molecules\"</a></td><td style=\"background-color: #FF6060\">No</td><td style=\"background-color: #FF6060\">No</td></td><tr><td><a href=\"https://doi.org/10.1038/ncomms5176\" target=\"_blank\">Correlated defect nanoregions in a metal-organic framework</a></td><td style=\"background-color: #60FF60\">Yes</td><td style=\"background-color: #60FF60\">Yes</td></td><tr><td><a href=\"https://doi.org/10.1103/PhysRevB.90.224104\" target=\"_blank\">Necessary and sufficient elastic stability conditions in various crystal systems</a></td><td style=\"background-color: #60FF60\">Yes</td><td style=\"background-color: #60FF60\">Yes</td></td><tr><td><a href=\"https://doi.org/10.1039/c4cc00734d\" target=\"_blank\">Prediction of flexibility of metal-organic frameworks CAU-13 and NOTT-300 by first principles molecular simulations</a></td><td style=\"background-color: #FF6060\">No</td><td style=\"background-color: #FF6060\">No</td></td><tr><td><a href=\"https://doi.org/10.1021/ja5060059\" target=\"_blank\">Remarkable pressure responses of metal-organic frameworks: Proton transfer and linker coiling in zinc alkyl gates</a></td><td style=\"background-color: #FF6060\">No</td><td style=\"background-color: #60FF60\">Yes</td></td><tr><td><a href=\"https://doi.org/10.1002/cphc.201300928\" target=\"_blank\">Reorientational dynamics of water confined in zeolites</a></td><td style=\"background-color: #60FF60\">Yes</td><td style=\"background-color: #FF6060\">No</td></td><tr><td><a href=\"https://doi.org/10.1063/1.4904818\" target=\"_blank\">Thermal and mechanical stability of zeolitic imidazolate frameworks polymorphs</a></td><td style=\"background-color: #60FF60\">Yes</td><td style=\"background-color: #60FF60\">Yes</td></td><tr><td><a href=\"https://doi.org/10.1021/jp412433a\" target=\"_blank\">Water adsorption in flexible gallium-based MIL-53 metal-organic framework</a></td><td style=\"background-color: #60FF60\">Yes</td><td style=\"background-color: #FF6060\">No</td></td><tr><td><a href=\"https://doi.org/10.1039/c3cp54292k\" target=\"_blank\">What makes zeolitic imidazolate frameworks hydrophobic or hydrophilic? the impact of geometry and functionalization on water adsorption</a></td><td style=\"background-color: #FF6060\">No</td><td style=\"background-color: #FF6060\">No</td></td><tr><td><a href=\"https://doi.org/10.1021/jz4013849\" target=\"_blank\">Adsorption deformation and structural transitions in metal-organic frameworks: From the unit cell to the crystal</a></td><td style=\"background-color: #FF6060\">No</td><td style=\"background-color: #FF6060\">No</td></td><tr><td><a href=\"https://doi.org/10.1063/1.4802888\" target=\"_blank\">Adsorption induced transitions in soft porous crystals: An osmotic potential approach to multistability and intermediate structures</a></td><td style=\"background-color: #FF6060\">No</td><td style=\"background-color: #FF6060\">No</td></td><tr><td><a href=\"https://doi.org/10.1021/jz400880p\" target=\"_blank\">Investigating the pressure-induced amorphization of zeolitic imidazolate framework ZIF-8: Mechanical instability due to shear mode softening</a></td><td style=\"background-color: #FF6060\">No</td><td style=\"background-color: #FF6060\">No</td></td><tr><td><a href=\"https://doi.org/10.1039/c3cp53126k\" target=\"_blank\">Investigation of structure and dynamics of the hydrated metal-organic framework MIL-53(Cr) using first-principles molecular dynamics</a></td><td style=\"background-color: #FF6060\">No</td><td style=\"background-color: #FF6060\">No</td></td><tr><td><a href=\"https://doi.org/10.1063/1.4802770\" target=\"_blank\">Metal-organic frameworks with wine-rack motif: What determines their flexibility and elastic properties?</a></td><td style=\"background-color: #FF6060\">No</td><td style=\"background-color: #FF6060\">No</td></td><tr><td><a href=\"https://doi.org/10.1039/c3cp51817e\" target=\"_blank\">Systematic investigation of the mechanical properties of pure silica zeolites: Stiffness, anisotropy, and negative linear compressibility</a></td><td style=\"background-color: #FF6060\">No</td><td style=\"background-color: #FF6060\">No</td></td><tr><td><a href=\"https://doi.org/10.1021/jp312179e\" target=\"_blank\">Temperature-induced structural transitions in the gallium-based MIL-53 metal-organic framework</a></td><td style=\"background-color: #60FF60\">Yes</td><td style=\"background-color: #60FF60\">Yes</td></td><tr><td><a href=\"https://doi.org/10.1016/j.jcis.2013.07.013\" target=\"_blank\">Water evaporation in silica colloidal deposits</a></td><td style=\"background-color: #FF6060\">No</td><td style=\"background-color: #FF6060\">No</td></td><tr><td><a href=\"https://doi.org/10.1103/PhysRevLett.109.195502\" target=\"_blank\">Anisotropic elastic properties of flexible metal-organic frameworks: How soft are soft porous crystals?</a></td><td style=\"background-color: #60FF60\">Yes</td><td style=\"background-color: #60FF60\">Yes</td></td><tr><td><a href=\"https://doi.org/10.1002/cphc.201200455\" target=\"_blank\">How can a hydrophobic mof be water-unstable? Insight into the hydration mechanism of IRMOFs</a></td><td style=\"background-color: #60FF60\">Yes</td><td style=\"background-color: #FF6060\">No</td></td><tr><td><a href=\"https://doi.org/10.1021/jp209895d\" target=\"_blank\">Molecular simulation of a Zn-triazamacrocyle metal-organic frameworks family with extraframework anions</a></td><td style=\"background-color: #60FF60\">Yes</td><td style=\"background-color: #FF6060\">No</td></td><tr><td><a href=\"https://doi.org/10.1021/la203925y\" target=\"_blank\">Predicting mixture coadsorption in soft porous crystals: Experimental and theoretical study of CO <inf>2</inf>/CH <inf>4</inf> in MIL-53(Al)</a></td><td style=\"background-color: #FF6060\">No</td><td style=\"background-color: #FF6060\">No</td></td><tr><td><a href=\"https://doi.org/10.1063/1.4765369\" target=\"_blank\">Understanding adsorption-induced structural transitions in metal-organic frameworks: From the unit cell to the crystal</a></td><td style=\"background-color: #60FF60\">Yes</td><td style=\"background-color: #60FF60\">Yes</td></td><tr><td><a href=\"https://doi.org/10.1021/jz2008769\" target=\"_blank\">Mechanism of breathing transitions in metal-organic frameworks</a></td><td style=\"background-color: #60FF60\">Yes</td><td style=\"background-color: #FF6060\">No</td></td><tr><td><a href=\"https://doi.org/10.1021/la200094x\" target=\"_blank\">Structural transitions in MIL-53 (Cr): View from outside and inside</a></td><td style=\"background-color: #60FF60\">Yes</td><td style=\"background-color: #FF6060\">No</td></td><tr><td><a href=\"https://doi.org/10.1016/j.micromeso.2010.07.009\" target=\"_blank\">Thermodynamic analysis of the breathing of amino-functionalized MIL-53(Al) upon CO<inf>2</inf>adsorption</a></td><td style=\"background-color: #FF6060\">No</td><td style=\"background-color: #FF6060\">No</td></td><tr><td><a href=\"https://doi.org/10.1002/cphc.201000590\" target=\"_blank\">Thermodynamic methods and models to study flexible metal-organic frameworks</a></td><td style=\"background-color: #FF6060\">No</td><td style=\"background-color: #FF6060\">No</td></td><tr><td><a href=\"https://doi.org/10.1021/jz9003087\" target=\"_blank\">Stress-based model for the breathing of metal-organic frameworks</a></td><td style=\"background-color: #60FF60\">Yes</td><td style=\"background-color: #60FF60\">Yes</td></td><tr><td><a href=\"https://doi.org/10.1021/jp108710h\" target=\"_blank\">The behavior of flexible MIL-53(Al) upon CH<inf>4</inf> and CO<inf>2</inf> adsorption</a></td><td style=\"background-color: #60FF60\">Yes</td><td style=\"background-color: #FF6060\">No</td></td><tr><td><a href=\"https://doi.org/10.1039/c003434g\" target=\"_blank\">The osmotic framework adsorbed solution theory: Predicting mixture coadsorption in flexible nanoporous materials</a></td><td style=\"background-color: #60FF60\">Yes</td><td style=\"background-color: #FF6060\">No</td></td><tr><td><a href=\"https://doi.org/10.1021/jp108715q\" target=\"_blank\">Understanding the effect of confinement on the liquid-gas transition: A study of adsorption isotherms in a family of metal-organic frameworks</a></td><td style=\"background-color: #FF6060\">No</td><td style=\"background-color: #FF6060\">No</td></td><tr><td><a href=\"https://doi.org/10.1039/b925074c\" target=\"_blank\">Water adsorption in hydrophobic MOF channels</a></td><td style=\"background-color: #FF6060\">No</td><td style=\"background-color: #60FF60\">Yes</td></td><tr><td><a href=\"https://doi.org/10.1002/anie.200903153\" target=\"_blank\">Breathing transitions in MIL-53(A1) metal-organic framework upon Xenon adsorption</a></td><td style=\"background-color: #FF6060\">No</td><td style=\"background-color: #60FF60\">Yes</td></td><tr><td><a href=\"https://doi.org/10.1021/ja8094153\" target=\"_blank\">Double structural transition in hybrid material MIL-53 upon hydrocarbon adsorption: The thermodynamics behind the scenes</a></td><td style=\"background-color: #FF6060\">No</td><td style=\"background-color: #60FF60\">Yes</td></td><tr><td><a href=\"https://doi.org/10.1021/ja904123f\" target=\"_blank\">Prediction of breathing and gate-opening transitions upon binary mixture adsorption in metal-organic frameworks</a></td><td style=\"background-color: #FF6060\">No</td><td style=\"background-color: #60FF60\">Yes</td></td><tr><td><a href=\"https://doi.org/10.1039/b912997a\" target=\"_blank\">Zeolitic imidazole frameworks: Structural and energetics trends compared with their zeolite analogues</a></td><td style=\"background-color: #FF6060\">No</td><td style=\"background-color: #FF6060\">No</td></td><tr><td><a href=\"https://doi.org/10.1063/1.2964101\" target=\"_blank\">Mechanism and kinetics of hydrated electron diffusion</a></td><td style=\"background-color: #60FF60\">Yes</td><td style=\"background-color: #FF6060\">No</td></td><tr><td><a href=\"https://doi.org/10.1021/ja805129c\" target=\"_blank\">Thermodynamics of guest-induced structural transitions in hybrid organic-inorganic frameworks</a></td><td style=\"background-color: #60FF60\">Yes</td><td style=\"background-color: #FF6060\">No</td></td><tr><td><a href=\"https://doi.org/10.1039/b804992k\" target=\"_blank\">Water nanodroplets confined in zeolite pores</a></td><td style=\"background-color: #FF6060\">No</td><td style=\"background-color: #FF6060\">No</td></td><tr><td><a href=\"https://doi.org/10.1021/jp070615j\" target=\"_blank\">Temperature effect on the absorption spectrum of the hydrated electron paired with a lithium cation in deuterated water</a></td><td style=\"background-color: #FF6060\">No</td><td style=\"background-color: #FF6060\">No</td></td><tr><td><a href=\"https://doi.org/10.1016/j.cplett.2006.07.023\" target=\"_blank\">Confinement effect on the hydrated electron behaviour</a></td><td style=\"background-color: #FF6060\">No</td><td style=\"background-color: #60FF60\">Yes</td></td><tr><td><a href=\"https://doi.org/10.1002/cphc.200600561\" target=\"_blank\">Dipole moment, hydrogen bonding and IR spectrum of confined water</a></td><td style=\"background-color: #60FF60\">Yes</td><td style=\"background-color: #60FF60\">Yes</td></td><tr><td><a href=\"https://doi.org/10.1021/jp0542975\" target=\"_blank\">Molecular dynamics simulations of electron - Alkali cation pairs in bulk water</a></td><td style=\"background-color: #FF6060\">No</td><td style=\"background-color: #FF6060\">No</td></td><tr><td><a href=\"https://doi.org/10.1016/j.cplett.2005.05.012\" target=\"_blank\">Molecular dynamics simulations of the temperature and density dependence of the absorption spectra of hydrated electron and solvated silver atom in water</a></td><td style=\"background-color: #FF6060\">No</td><td style=\"background-color: #60FF60\">Yes</td></td><tr><td><a href=\"https://doi.org/10.1080/0892702042000270142\" target=\"_blank\">Reactivity of an excess electron with monovalent cations in bulk water by mixed quantum classical molecular dynamics simulations</a></td><td style=\"background-color: #60FF60\">Yes</td><td style=\"background-color: #60FF60\">Yes</td></td><tr><td>Total</td><td>41.5%</td><td>46.2%</td></tr></table>"
      ],
      "text/plain": [
       "<IPython.core.display.HTML object>"
      ]
     },
     "metadata": {},
     "output_type": "display_data"
    }
   ],
   "source": [
    "def YesNoCell(b):\n",
    "    if b:\n",
    "        return '<td style=\"background-color: #60FF60\">Yes</td>'\n",
    "    else:\n",
    "        return '<td style=\"background-color: #FF6060\">No</td>'\n",
    "\n",
    "\n",
    "s = ''\n",
    "tot_base = 0\n",
    "tot_unpaywall = 0\n",
    "for doi, title, base, unpaywall in res:\n",
    "    s += f'<tr><td><a href=\"https://doi.org/{doi}\" target=\"_blank\">{title}</a></td>{YesNoCell(base)}{YesNoCell(unpaywall)}</td>'\n",
    "    if base:\n",
    "        tot_base += 1\n",
    "    if unpaywall:\n",
    "        tot_unpaywall += 1\n",
    "\n",
    "s += f'<tr><td>Total</td><td>{100 * tot_base/ len(res):.1f}%</td><td>{100 * tot_unpaywall/ len(res):.1f}%</td></tr>'\n",
    "    \n",
    "header = '<tr><td>Paper title</td><td>OA in BASE</td><td>OA in Unpaywall</td></tr>'\n",
    "display(HTML('<table>' + header + s + '</table>'))"
   ]
  },
  {
   "cell_type": "code",
   "execution_count": null,
   "metadata": {},
   "outputs": [],
   "source": []
  }
 ],
 "metadata": {
  "kernelspec": {
   "display_name": "Python 3",
   "language": "python",
   "name": "python3"
  },
  "language_info": {
   "codemirror_mode": {
    "name": "ipython",
    "version": 3
   },
   "file_extension": ".py",
   "mimetype": "text/x-python",
   "name": "python",
   "nbconvert_exporter": "python",
   "pygments_lexer": "ipython3",
   "version": "3.7.3"
  }
 },
 "nbformat": 4,
 "nbformat_minor": 2
}
