{
 "cells": [
  {
   "cell_type": "markdown",
   "id": "designed-precipitation",
   "metadata": {},
   "source": [
    "# Estimation des émissions CO₂ d'une conférence en fonction de sa localisation"
   ]
  },
  {
   "cell_type": "code",
   "execution_count": 75,
   "id": "facial-technology",
   "metadata": {},
   "outputs": [],
   "source": [
    "import geopy.distance\n",
    "import matplotlib.pyplot as plt\n",
    "import unidecode"
   ]
  },
  {
   "cell_type": "markdown",
   "id": "exempt-freight",
   "metadata": {},
   "source": [
    "Lecture du nombre d'enseignants-chercheurs (MCF et PU) par académie. Pour chaque académie une seule ville a été retenue (Aix–Marseille ➡️ Marseille). La Corse, les DOMs et les personnels hors-académie ne sont pas pris en compte.\n",
    "\n",
    "_Source de données : [“Note d'information DGRH relative aux personnels enseignants du supérieur pour l'année universitaire 2012-2013“](https://www.enseignementsup-recherche.gouv.fr/cid22654/demographie-desenseignants-de-l-enseignement-superieur.html)_"
   ]
  },
  {
   "cell_type": "code",
   "execution_count": 52,
   "id": "preliminary-population",
   "metadata": {},
   "outputs": [
    {
     "data": {
      "text/plain": [
       "{'Marseille': 3001,\n",
       " 'Amiens': 1021,\n",
       " 'Besançon': 967,\n",
       " 'Bordeaux': 2765,\n",
       " 'Caen': 1049,\n",
       " 'Clermont-Ferrand': 1218,\n",
       " 'Créteil': 2964,\n",
       " 'Dijon': 974,\n",
       " 'Grenoble': 2555,\n",
       " 'Lille': 3665,\n",
       " 'Limoges': 614,\n",
       " 'Lyon': 3747,\n",
       " 'Montpellier': 2255,\n",
       " 'Metz': 2334,\n",
       " 'Nantes': 2321,\n",
       " 'Nice': 1331,\n",
       " 'Orléans': 1609,\n",
       " 'Paris': 8961,\n",
       " 'Poitiers': 1306,\n",
       " 'Reims': 946,\n",
       " 'Rennes': 2685,\n",
       " 'Rouen': 1262,\n",
       " 'Strasbourg': 2090,\n",
       " 'Toulouse': 3168,\n",
       " 'Versailles': 3795}"
      ]
     },
     "execution_count": 52,
     "metadata": {},
     "output_type": "execute_result"
    }
   ],
   "source": [
    "academies = {}\n",
    "with open('academies.txt', 'r') as f:\n",
    "    for line in f:\n",
    "        if line[0] != '#':\n",
    "            data = line.split()\n",
    "            academies[data[0]] = int(data[1])\n",
    "\n",
    "totacademies = sum(academies.values())\n",
    "            \n",
    "academies"
   ]
  },
  {
   "cell_type": "markdown",
   "id": "authentic-serial",
   "metadata": {},
   "source": [
    "Coordonnées (latitude et longitude) des grandes villes françaises\n",
    "\n",
    "_Source : [FRENCH DATASET: POPULATION AND GPS COORDINATES](https://freakonometrics.hypotheses.org/1125)_"
   ]
  },
  {
   "cell_type": "code",
   "execution_count": 31,
   "id": "animated-glasgow",
   "metadata": {},
   "outputs": [
    {
     "data": {
      "text/plain": [
       "(1.444209, 43.604652, 448859.6807)"
      ]
     },
     "execution_count": 31,
     "metadata": {},
     "output_type": "execute_result"
    }
   ],
   "source": [
    "villes = {}\n",
    "with open('villes.txt', 'r') as f:\n",
    "    for line in f:\n",
    "        if line[0] != '#':\n",
    "            data = line.split('\\t')\n",
    "            villes[data[0]] = tuple(map(float, data[1:]))\n",
    "villes['TOULOUSE']"
   ]
  },
  {
   "cell_type": "code",
   "execution_count": 42,
   "id": "banner-resort",
   "metadata": {},
   "outputs": [
    {
     "data": {
      "text/plain": [
       "(6.0240539, 47.237829)"
      ]
     },
     "execution_count": 42,
     "metadata": {},
     "output_type": "execute_result"
    }
   ],
   "source": [
    "def coord(acad):\n",
    "    return villes[unidecode.unidecode(acad.upper())][0:2]\n",
    "\n",
    "for k in academies.keys():\n",
    "    coord(k)\n",
    "\n",
    "coord('Besançon')"
   ]
  },
  {
   "cell_type": "code",
   "execution_count": 50,
   "id": "bigger-earth",
   "metadata": {},
   "outputs": [
    {
     "name": "stdout",
     "output_type": "stream",
     "text": [
      "853.2507748229115\n",
      "25.31501549703571\n"
     ]
    }
   ],
   "source": [
    "def distance(ac1, ac2):\n",
    "    c1 = coord(ac1)\n",
    "    c2 = coord(ac2)\n",
    "    return geopy.distance.distance(c1, c2).km\n",
    "\n",
    "print(distance('Lille', 'Marseille'))\n",
    "print(distance('Paris', 'Versailles'))"
   ]
  },
  {
   "cell_type": "code",
   "execution_count": 59,
   "id": "restricted-windsor",
   "metadata": {},
   "outputs": [],
   "source": [
    "def all_travel_to(center):\n",
    "    sum = 0\n",
    "    for acad in academies.keys():\n",
    "        d = distance(center, acad)\n",
    "        frac = float(academies[acad]) / totacademies\n",
    "        sum += frac * d\n",
    "    return sum"
   ]
  },
  {
   "cell_type": "code",
   "execution_count": 60,
   "id": "compliant-gender",
   "metadata": {},
   "outputs": [],
   "source": [
    "labels = sorted(academies.keys())\n",
    "dist = [all_travel_to(acad) for acad in labels]"
   ]
  },
  {
   "cell_type": "code",
   "execution_count": 85,
   "id": "moving-credit",
   "metadata": {},
   "outputs": [
    {
     "data": {
      "image/png": "[encoded data removed]",
      "text/plain": [
       "<Figure size 432x288 with 1 Axes>"
      ]
     },
     "metadata": {
      "needs_background": "light"
     },
     "output_type": "display_data"
    }
   ],
   "source": [
    "fig = plt.figure()\n",
    "ax = fig.add_axes([0.1, 0.35, 0.87, 0.6])\n",
    "ax.bar(labels, dist)\n",
    "plt.xticks(range(len(labels)), labels, rotation=90)\n",
    "plt.ylabel('Distance moyenne par participant (km)')\n",
    "#plt.show()\n",
    "plt.savefig(\"distance.png\", dpi=300)"
   ]
  },
  {
   "cell_type": "code",
   "execution_count": null,
   "id": "checked-reality",
   "metadata": {},
   "outputs": [],
   "source": []
  }
 ],
 "metadata": {
  "kernelspec": {
   "display_name": "Python 3",
   "language": "python",
   "name": "python3"
  },
  "language_info": {
   "codemirror_mode": {
    "name": "ipython",
    "version": 3
   },
   "file_extension": ".py",
   "mimetype": "text/x-python",
   "name": "python",
   "nbconvert_exporter": "python",
   "pygments_lexer": "ipython3",
   "version": "3.8.3"
  }
 },
 "nbformat": 4,
 "nbformat_minor": 5
}
